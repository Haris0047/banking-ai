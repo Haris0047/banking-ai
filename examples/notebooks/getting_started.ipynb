{
  "cells": [
    {
      "cell_type": "raw",
      "metadata": {
        "vscode": {
          "languageId": "raw"
        }
      },
      "source": [
        "# Getting Started with Vanna.AI Custom Implementation\n",
        "\n",
        "This notebook demonstrates how to use the Vanna.AI custom implementation for text-to-SQL generation.\n",
        "\n",
        "## Overview\n",
        "\n",
        "Vanna.AI uses three key training mechanisms:\n",
        "1. **DDL Statements** - Database schema definitions\n",
        "2. **SQL Pairs** - Question and SQL query examples\n",
        "3. **Documentation** - Business context and table descriptions\n"
      ]
    }
  ],
  "metadata": {
    "language_info": {
      "name": "python"
    }
  },
  "nbformat": 4,
  "nbformat_minor": 2
}
